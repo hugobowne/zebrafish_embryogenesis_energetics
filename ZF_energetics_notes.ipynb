{
 "cells": [
  {
   "cell_type": "markdown",
   "metadata": {},
   "source": [
    "<h1>Zebrafish Embryo Energetics</h1>"
   ]
  },
  {
   "cell_type": "code",
   "execution_count": 94,
   "metadata": {
    "collapsed": true
   },
   "outputs": [],
   "source": [
    "import numpy as np\n",
    "import pandas as pd\n",
    "import matplotlib.pyplot as plt\n",
    "%matplotlib inline\n",
    "pd.set_option('display.mpl_style', 'default') # Make the graphs a bit prettier\n",
    "##check out tutorial here:\n",
    "##http://nbviewer.ipython.org/github/jvns/pandas-cookbook/blob/v0.1/cookbook/Chapter%201%20-%20Reading%20from%20a%20CSV.ipynb\n",
    "data= pd.read_csv('data/235C_combined.csv')\n",
    "#data= pd.read_csv('data/150627_23.5_WH.csv')"
   ]
  },
  {
   "cell_type": "code",
   "execution_count": 95,
   "metadata": {
    "collapsed": false
   },
   "outputs": [
    {
     "data": {
      "text/html": [
       "<div>\n",
       "<table border=\"1\" class=\"dataframe\">\n",
       "  <thead>\n",
       "    <tr style=\"text-align: right;\">\n",
       "      <th></th>\n",
       "      <th>time</th>\n",
       "      <th>y150627</th>\n",
       "      <th>y150701</th>\n",
       "      <th>y150929</th>\n",
       "      <th>y151020</th>\n",
       "      <th>y151021</th>\n",
       "      <th>y151022</th>\n",
       "      <th>y151027</th>\n",
       "      <th>y151028</th>\n",
       "      <th>y151103</th>\n",
       "      <th>y151104</th>\n",
       "    </tr>\n",
       "  </thead>\n",
       "  <tbody>\n",
       "    <tr>\n",
       "      <th>0</th>\n",
       "      <td>1</td>\n",
       "      <td>11.333553</td>\n",
       "      <td>11.404599</td>\n",
       "      <td>10.918250</td>\n",
       "      <td>10.941451</td>\n",
       "      <td>10.884454</td>\n",
       "      <td>10.866692</td>\n",
       "      <td>10.961839</td>\n",
       "      <td>10.730611</td>\n",
       "      <td>10.980952</td>\n",
       "      <td>10.836343</td>\n",
       "    </tr>\n",
       "    <tr>\n",
       "      <th>1</th>\n",
       "      <td>2</td>\n",
       "      <td>11.333362</td>\n",
       "      <td>11.404590</td>\n",
       "      <td>10.918791</td>\n",
       "      <td>10.941176</td>\n",
       "      <td>10.884435</td>\n",
       "      <td>10.866062</td>\n",
       "      <td>10.962009</td>\n",
       "      <td>10.731419</td>\n",
       "      <td>10.981182</td>\n",
       "      <td>10.836417</td>\n",
       "    </tr>\n",
       "    <tr>\n",
       "      <th>2</th>\n",
       "      <td>3</td>\n",
       "      <td>11.332946</td>\n",
       "      <td>11.404233</td>\n",
       "      <td>10.918272</td>\n",
       "      <td>10.942204</td>\n",
       "      <td>10.884386</td>\n",
       "      <td>10.866104</td>\n",
       "      <td>10.962015</td>\n",
       "      <td>10.731645</td>\n",
       "      <td>10.981365</td>\n",
       "      <td>10.836217</td>\n",
       "    </tr>\n",
       "    <tr>\n",
       "      <th>3</th>\n",
       "      <td>4</td>\n",
       "      <td>11.333319</td>\n",
       "      <td>11.405077</td>\n",
       "      <td>10.917802</td>\n",
       "      <td>10.943064</td>\n",
       "      <td>10.883559</td>\n",
       "      <td>10.866165</td>\n",
       "      <td>10.961551</td>\n",
       "      <td>10.731594</td>\n",
       "      <td>10.980701</td>\n",
       "      <td>10.835781</td>\n",
       "    </tr>\n",
       "    <tr>\n",
       "      <th>4</th>\n",
       "      <td>5</td>\n",
       "      <td>11.333453</td>\n",
       "      <td>11.404423</td>\n",
       "      <td>10.917378</td>\n",
       "      <td>10.942498</td>\n",
       "      <td>10.883421</td>\n",
       "      <td>10.866470</td>\n",
       "      <td>10.961542</td>\n",
       "      <td>10.731797</td>\n",
       "      <td>10.980513</td>\n",
       "      <td>10.835704</td>\n",
       "    </tr>\n",
       "  </tbody>\n",
       "</table>\n",
       "</div>"
      ],
      "text/plain": [
       "   time    y150627    y150701    y150929    y151020    y151021    y151022  \\\n",
       "0     1  11.333553  11.404599  10.918250  10.941451  10.884454  10.866692   \n",
       "1     2  11.333362  11.404590  10.918791  10.941176  10.884435  10.866062   \n",
       "2     3  11.332946  11.404233  10.918272  10.942204  10.884386  10.866104   \n",
       "3     4  11.333319  11.405077  10.917802  10.943064  10.883559  10.866165   \n",
       "4     5  11.333453  11.404423  10.917378  10.942498  10.883421  10.866470   \n",
       "\n",
       "     y151027    y151028    y151103    y151104  \n",
       "0  10.961839  10.730611  10.980952  10.836343  \n",
       "1  10.962009  10.731419  10.981182  10.836417  \n",
       "2  10.962015  10.731645  10.981365  10.836217  \n",
       "3  10.961551  10.731594  10.980701  10.835781  \n",
       "4  10.961542  10.731797  10.980513  10.835704  "
      ]
     },
     "execution_count": 95,
     "metadata": {},
     "output_type": "execute_result"
    }
   ],
   "source": [
    "data.head()"
   ]
  },
  {
   "cell_type": "code",
   "execution_count": 96,
   "metadata": {
    "collapsed": false
   },
   "outputs": [
    {
     "data": {
      "text/plain": [
       "[<matplotlib.lines.Line2D at 0x111708210>]"
      ]
     },
     "execution_count": 96,
     "metadata": {},
     "output_type": "execute_result"
    },
    {
     "data": {
      "image/png": "[encoded data removed]",
      "text/plain": [
       "<matplotlib.figure.Figure at 0x11048c5d0>"
      ]
     },
     "metadata": {},
     "output_type": "display_data"
    }
   ],
   "source": [
    "x = data['time']\n",
    "y = data['y150929']\n",
    "plt.plot(x,y)"
   ]
  },
  {
   "cell_type": "code",
   "execution_count": 97,
   "metadata": {
    "collapsed": false
   },
   "outputs": [
    {
     "data": {
      "text/plain": [
       "[<matplotlib.lines.Line2D at 0x110472ad0>]"
      ]
     },
     "execution_count": 97,
     "metadata": {},
     "output_type": "execute_result"
    },
    {
     "data": {
      "image/png": "[encoded data removed]",
      "text/plain": [
       "<matplotlib.figure.Figure at 0x112373a10>"
      ]
     },
     "metadata": {},
     "output_type": "display_data"
    }
   ],
   "source": [
    "ym = max(y)\n",
    "indmax = np.argmax(y)\n",
    "ym, indmax\n",
    "plt.plot(x[indmax:],y[indmax:])\n",
    "#plt.plot(x[4800:],y[4800:])"
   ]
  },
  {
   "cell_type": "code",
   "execution_count": 103,
   "metadata": {
    "collapsed": false
   },
   "outputs": [
    {
     "data": {
      "text/plain": [
       "[<matplotlib.lines.Line2D at 0x1130e3d50>]"
      ]
     },
     "execution_count": 103,
     "metadata": {},
     "output_type": "execute_result"
    },
    {
     "data": {
      "image/png": "[encoded data removed]",
      "text/plain": [
       "<matplotlib.figure.Figure at 0x1130d7cd0>"
      ]
     },
     "metadata": {},
     "output_type": "display_data"
    }
   ],
   "source": [
    "ym = min(y)\n",
    "indmin = np.argmin(y)\n",
    "ym, indmin\n",
    "plt.plot(x[indmin:],y[indmin:])\n",
    "plt.plot(x[5000:],y[5000:])"
   ]
  },
  {
   "cell_type": "markdown",
   "metadata": {},
   "source": [
    "<h2>some scratch notes here below</h2>"
   ]
  },
  {
   "cell_type": "code",
   "execution_count": 100,
   "metadata": {
    "collapsed": false
   },
   "outputs": [
    {
     "data": {
      "text/plain": [
       "17106"
      ]
     },
     "execution_count": 100,
     "metadata": {},
     "output_type": "execute_result"
    }
   ],
   "source": [
    "indmin"
   ]
  },
  {
   "cell_type": "code",
   "execution_count": 60,
   "metadata": {
    "collapsed": false
   },
   "outputs": [
    {
     "data": {
      "text/plain": [
       "[<matplotlib.lines.Line2D at 0x10e7d5490>,\n",
       " <matplotlib.lines.Line2D at 0x10e7d5710>]"
      ]
     },
     "execution_count": 60,
     "metadata": {},
     "output_type": "execute_result"
    },
    {
     "data": {
      "image/png": "[encoded data removed]",
      "text/plain": [
       "<matplotlib.figure.Figure at 0x10e677310>"
      ]
     },
     "metadata": {},
     "output_type": "display_data"
    }
   ],
   "source": [
    "z = np.polyfit(x, y, 3)\n",
    "p = np.poly1d(z)\n",
    "plt.plot(x,y,'-',x,p(x),'r-')\n",
    "#http://docs.scipy.org/doc/numpy/reference/generated/numpy.polyfit.html"
   ]
  },
  {
   "cell_type": "code",
   "execution_count": 67,
   "metadata": {
    "collapsed": false
   },
   "outputs": [
    {
     "data": {
      "text/plain": [
       "[<matplotlib.lines.Line2D at 0x10fa4e790>]"
      ]
     },
     "execution_count": 67,
     "metadata": {},
     "output_type": "execute_result"
    },
    {
     "data": {
      "image/png": "[encoded data removed]",
      "text/plain": [
       "<matplotlib.figure.Figure at 0x10f0ba8d0>"
      ]
     },
     "metadata": {},
     "output_type": "display_data"
    }
   ],
   "source": [
    "data1= pd.read_csv('data/150627_23.5_WH.csv')\n",
    "t = 850\n",
    "plt.plot(data1['time'][1:t],data1['dp'][1:t])"
   ]
  },
  {
   "cell_type": "code",
   "execution_count": 65,
   "metadata": {
    "collapsed": false
   },
   "outputs": [
    {
     "data": {
      "text/html": [
       "<div>\n",
       "<table border=\"1\" class=\"dataframe\">\n",
       "  <thead>\n",
       "    <tr style=\"text-align: right;\">\n",
       "      <th></th>\n",
       "      <th>time</th>\n",
       "      <th>dp</th>\n",
       "      <th>temp</th>\n",
       "      <th>Unnamed: 3</th>\n",
       "      <th>Unnamed: 4</th>\n",
       "      <th>Unnamed: 5</th>\n",
       "      <th>Unnamed: 6</th>\n",
       "    </tr>\n",
       "  </thead>\n",
       "  <tbody>\n",
       "    <tr>\n",
       "      <th>0</th>\n",
       "      <td>1</td>\n",
       "      <td>11.333553</td>\n",
       "      <td>23.50282</td>\n",
       "      <td>-0.000085</td>\n",
       "      <td>22.511173</td>\n",
       "      <td>-0.0031</td>\n",
       "      <td>1.134</td>\n",
       "    </tr>\n",
       "    <tr>\n",
       "      <th>1</th>\n",
       "      <td>2</td>\n",
       "      <td>11.333362</td>\n",
       "      <td>23.50199</td>\n",
       "      <td>-0.000085</td>\n",
       "      <td>22.511120</td>\n",
       "      <td>-0.0032</td>\n",
       "      <td>1.134</td>\n",
       "    </tr>\n",
       "    <tr>\n",
       "      <th>2</th>\n",
       "      <td>3</td>\n",
       "      <td>11.332946</td>\n",
       "      <td>23.50267</td>\n",
       "      <td>-0.000085</td>\n",
       "      <td>22.510883</td>\n",
       "      <td>-0.0031</td>\n",
       "      <td>1.134</td>\n",
       "    </tr>\n",
       "    <tr>\n",
       "      <th>3</th>\n",
       "      <td>4</td>\n",
       "      <td>11.333319</td>\n",
       "      <td>23.50270</td>\n",
       "      <td>-0.000084</td>\n",
       "      <td>22.511038</td>\n",
       "      <td>-0.0031</td>\n",
       "      <td>1.134</td>\n",
       "    </tr>\n",
       "    <tr>\n",
       "      <th>4</th>\n",
       "      <td>5</td>\n",
       "      <td>11.333453</td>\n",
       "      <td>23.50370</td>\n",
       "      <td>-0.000084</td>\n",
       "      <td>22.511474</td>\n",
       "      <td>-0.0031</td>\n",
       "      <td>1.134</td>\n",
       "    </tr>\n",
       "  </tbody>\n",
       "</table>\n",
       "</div>"
      ],
      "text/plain": [
       "   time         dp      temp  Unnamed: 3  Unnamed: 4  Unnamed: 5  Unnamed: 6\n",
       "0     1  11.333553  23.50282   -0.000085   22.511173     -0.0031       1.134\n",
       "1     2  11.333362  23.50199   -0.000085   22.511120     -0.0032       1.134\n",
       "2     3  11.332946  23.50267   -0.000085   22.510883     -0.0031       1.134\n",
       "3     4  11.333319  23.50270   -0.000084   22.511038     -0.0031       1.134\n",
       "4     5  11.333453  23.50370   -0.000084   22.511474     -0.0031       1.134"
      ]
     },
     "execution_count": 65,
     "metadata": {},
     "output_type": "execute_result"
    }
   ],
   "source": [
    "data1.head()"
   ]
  },
  {
   "cell_type": "code",
   "execution_count": null,
   "metadata": {
    "collapsed": true
   },
   "outputs": [],
   "source": []
  }
 ],
 "metadata": {
  "kernelspec": {
   "display_name": "Python 2",
   "language": "python",
   "name": "python2"
  },
  "language_info": {
   "codemirror_mode": {
    "name": "ipython",
    "version": 2
   },
   "file_extension": ".py",
   "mimetype": "text/x-python",
   "name": "python",
   "nbconvert_exporter": "python",
   "pygments_lexer": "ipython2",
   "version": "2.7.10"
  }
 },
 "nbformat": 4,
 "nbformat_minor": 0
}
