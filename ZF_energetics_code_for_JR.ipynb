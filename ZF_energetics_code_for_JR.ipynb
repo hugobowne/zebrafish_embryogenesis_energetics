{
 "cells": [
  {
   "cell_type": "markdown",
   "metadata": {},
   "source": [
    "<h1>Zebrafish Embryo Energetics</h1>"
   ]
  },
  {
   "cell_type": "code",
   "execution_count": 65,
   "metadata": {
    "collapsed": false
   },
   "outputs": [
    {
     "data": {
      "text/html": [
       "<div>\n",
       "<table border=\"1\" class=\"dataframe\">\n",
       "  <thead>\n",
       "    <tr style=\"text-align: right;\">\n",
       "      <th></th>\n",
       "      <th>time</th>\n",
       "      <th>y150628</th>\n",
       "      <th>y150703</th>\n",
       "      <th>y150910</th>\n",
       "      <th>y150913</th>\n",
       "      <th>y150915</th>\n",
       "      <th>y150916</th>\n",
       "      <th>y150917</th>\n",
       "      <th>y150921</th>\n",
       "      <th>y150922</th>\n",
       "      <th>y150923</th>\n",
       "    </tr>\n",
       "  </thead>\n",
       "  <tbody>\n",
       "    <tr>\n",
       "      <th>0</th>\n",
       "      <td>1</td>\n",
       "      <td>11.240423</td>\n",
       "      <td>11.085212</td>\n",
       "      <td>10.738853</td>\n",
       "      <td>10.779680</td>\n",
       "      <td>10.800126</td>\n",
       "      <td>10.844465</td>\n",
       "      <td>10.835734</td>\n",
       "      <td>10.770735</td>\n",
       "      <td>10.767771</td>\n",
       "      <td>10.731048</td>\n",
       "    </tr>\n",
       "    <tr>\n",
       "      <th>1</th>\n",
       "      <td>2</td>\n",
       "      <td>11.241147</td>\n",
       "      <td>11.084801</td>\n",
       "      <td>10.739540</td>\n",
       "      <td>10.779285</td>\n",
       "      <td>10.799950</td>\n",
       "      <td>10.844732</td>\n",
       "      <td>10.836566</td>\n",
       "      <td>10.770911</td>\n",
       "      <td>10.768112</td>\n",
       "      <td>10.730794</td>\n",
       "    </tr>\n",
       "    <tr>\n",
       "      <th>2</th>\n",
       "      <td>3</td>\n",
       "      <td>11.241405</td>\n",
       "      <td>11.084589</td>\n",
       "      <td>10.739913</td>\n",
       "      <td>10.778836</td>\n",
       "      <td>10.799792</td>\n",
       "      <td>10.845338</td>\n",
       "      <td>10.836654</td>\n",
       "      <td>10.770673</td>\n",
       "      <td>10.767991</td>\n",
       "      <td>10.730299</td>\n",
       "    </tr>\n",
       "    <tr>\n",
       "      <th>3</th>\n",
       "      <td>4</td>\n",
       "      <td>11.241813</td>\n",
       "      <td>11.084963</td>\n",
       "      <td>10.739793</td>\n",
       "      <td>10.779755</td>\n",
       "      <td>10.800435</td>\n",
       "      <td>10.846021</td>\n",
       "      <td>10.836864</td>\n",
       "      <td>10.770616</td>\n",
       "      <td>10.767938</td>\n",
       "      <td>10.731093</td>\n",
       "    </tr>\n",
       "    <tr>\n",
       "      <th>4</th>\n",
       "      <td>5</td>\n",
       "      <td>11.242237</td>\n",
       "      <td>11.085158</td>\n",
       "      <td>10.739793</td>\n",
       "      <td>10.778989</td>\n",
       "      <td>10.800739</td>\n",
       "      <td>10.846145</td>\n",
       "      <td>10.836776</td>\n",
       "      <td>10.770948</td>\n",
       "      <td>10.768035</td>\n",
       "      <td>10.730606</td>\n",
       "    </tr>\n",
       "  </tbody>\n",
       "</table>\n",
       "</div>"
      ],
      "text/plain": [
       "   time    y150628    y150703    y150910    y150913    y150915    y150916  \\\n",
       "0     1  11.240423  11.085212  10.738853  10.779680  10.800126  10.844465   \n",
       "1     2  11.241147  11.084801  10.739540  10.779285  10.799950  10.844732   \n",
       "2     3  11.241405  11.084589  10.739913  10.778836  10.799792  10.845338   \n",
       "3     4  11.241813  11.084963  10.739793  10.779755  10.800435  10.846021   \n",
       "4     5  11.242237  11.085158  10.739793  10.778989  10.800739  10.846145   \n",
       "\n",
       "     y150917    y150921    y150922    y150923  \n",
       "0  10.835734  10.770735  10.767771  10.731048  \n",
       "1  10.836566  10.770911  10.768112  10.730794  \n",
       "2  10.836654  10.770673  10.767991  10.730299  \n",
       "3  10.836864  10.770616  10.767938  10.731093  \n",
       "4  10.836776  10.770948  10.768035  10.730606  "
      ]
     },
     "execution_count": 65,
     "metadata": {},
     "output_type": "execute_result"
    }
   ],
   "source": [
    "####LOAD DATA HERE\n",
    "import pandas as pd\n",
    "data= pd.read_csv('data/335C_combined.csv') ##load file that is in directory 'data'\n",
    "data.head()"
   ]
  },
  {
   "cell_type": "code",
   "execution_count": null,
   "metadata": {
    "collapsed": true
   },
   "outputs": [],
   "source": []
  },
  {
   "cell_type": "code",
   "execution_count": 66,
   "metadata": {
    "collapsed": false
   },
   "outputs": [],
   "source": [
    "#import libraries, setup\n",
    "import numpy as np\n",
    "from scipy.signal import argrelextrema\n",
    "import matplotlib.pyplot as plt\n",
    "%matplotlib inline\n",
    "pd.set_option('display.mpl_style', 'default') # Make the graphs a bit prettier"
   ]
  },
  {
   "cell_type": "code",
   "execution_count": 75,
   "metadata": {
    "collapsed": false
   },
   "outputs": [
    {
     "data": {
      "text/plain": [
       "[<matplotlib.lines.Line2D at 0x1101f8550>]"
      ]
     },
     "execution_count": 75,
     "metadata": {},
     "output_type": "execute_result"
    },
    {
     "data": {
      "image/png": "[encoded data removed]",
      "text/plain": [
       "<matplotlib.figure.Figure at 0x11017fe10>"
      ]
     },
     "metadata": {},
     "output_type": "display_data"
    }
   ],
   "source": [
    "#choose dataset from dataframe\n",
    "# x = data['time'].values\n",
    "# y = data['y150701'].values\n",
    "x = data['time']\n",
    "y = data['y150703']\n",
    "plt.plot(x,y)"
   ]
  },
  {
   "cell_type": "code",
   "execution_count": null,
   "metadata": {
    "collapsed": false
   },
   "outputs": [],
   "source": []
  },
  {
   "cell_type": "code",
   "execution_count": 69,
   "metadata": {
    "collapsed": false
   },
   "outputs": [
    {
     "name": "stdout",
     "output_type": "stream",
     "text": [
      "<class 'pandas.core.series.Series'>\n"
     ]
    },
    {
     "data": {
      "text/plain": [
       "[<matplotlib.lines.Line2D at 0x10f59aa10>]"
      ]
     },
     "execution_count": 69,
     "metadata": {},
     "output_type": "execute_result"
    },
    {
     "data": {
      "image/png": "[encoded data removed]",
      "text/plain": [
       "<matplotlib.figure.Figure at 0x10ec5a290>"
      ]
     },
     "metadata": {},
     "output_type": "display_data"
    }
   ],
   "source": [
    "xt = x[7100:]\n",
    "yt = y[7100:]\n",
    "print type(xt)\n",
    "plt.plot(xt,yt)"
   ]
  },
  {
   "cell_type": "code",
   "execution_count": 76,
   "metadata": {
    "collapsed": false
   },
   "outputs": [
    {
     "name": "stdout",
     "output_type": "stream",
     "text": [
      "[ 152  182  185  194  202  430  755  757  773  779 1055 1461 1503 1524 1528\n",
      " 1742 1751 1757 2267 2288 2297 2310 2313 2320 2403 3000 3016 3037 3040 3043\n",
      " 3045 3056 3067 3081 3093 3105 3112 3818 5363 8994 9229 9288 9451 9975]\n"
     ]
    }
   ],
   "source": [
    "##Here we edit the time series to get beginning of time series correct \n",
    "#(not necessary always; can do by hand; doesn't always work)\n",
    "m = np.argmax(y[7100:])\n",
    "yin_av = np.mean(y[7100:7100 + (m-7100)/2])\n",
    "z = y[m:]\n",
    "z1 = pd.rolling_mean(z, 150)\n",
    "# type(z1)\n",
    "# print(z)\n",
    "# print(z1[~np.isnan(z1)])\n",
    "# print(yin_av)\n",
    "k1 = argrelextrema(z1.values,np.less)[0] #local minima\n",
    "print(k1)\n",
    "y = yin_av-y[m+k1[6]:]\n",
    "xs = x[m+k1[6]:]"
   ]
  },
  {
   "cell_type": "code",
   "execution_count": 34,
   "metadata": {
    "collapsed": false
   },
   "outputs": [
    {
     "name": "stdout",
     "output_type": "stream",
     "text": [
      "[]\n"
     ]
    }
   ],
   "source": [
    "##Here we edit the time series to get beginning of time series correct \n",
    "#(not necessary always; can do by hand; doesn't always work)\n",
    "m = np.argmax(y)\n",
    "yin_av = np.mean(y[:m/2])\n",
    "z = y[m:]\n",
    "z1 = pd.rolling_mean(z, 150)\n",
    "#print(max(z1))\n",
    "k1 = argrelextrema(z1.values,np.less)[0] #local minima\n",
    "print(k1)\n",
    "# y = yin_av-y[m+k1[0]:]\n",
    "# xs = x[m+k1[0]:]"
   ]
  },
  {
   "cell_type": "markdown",
   "metadata": {},
   "source": [
    "Now we'll plot some the time series:"
   ]
  },
  {
   "cell_type": "code",
   "execution_count": 77,
   "metadata": {
    "collapsed": false
   },
   "outputs": [
    {
     "data": {
      "text/plain": [
       "<matplotlib.text.Text at 0x10e9f0b90>"
      ]
     },
     "execution_count": 77,
     "metadata": {},
     "output_type": "execute_result"
    },
    {
     "data": {
      "image/png": "[encoded data removed]",
      "text/plain": [
       "<matplotlib.figure.Figure at 0x10d346190>"
      ]
     },
     "metadata": {},
     "output_type": "display_data"
    }
   ],
   "source": [
    "plt.plot(xs,y)\n",
    "plt.xlabel('time (sec.)')\n",
    "plt.ylabel('heat flow (ncal/min.)')"
   ]
  },
  {
   "cell_type": "markdown",
   "metadata": {},
   "source": [
    "Now we'll plot some the time series with a polynomial fit:"
   ]
  },
  {
   "cell_type": "code",
   "execution_count": null,
   "metadata": {
    "collapsed": false
   },
   "outputs": [],
   "source": [
    "s1 = y[~np.isnan(y)]\n",
    "xs = range(0,len(s1))\n",
    "#plt.plot(xs,s1)\n",
    "f = np.polyfit(xs, s1, 10)\n",
    "p = np.poly1d(f)\n",
    "plt.plot(xs,s1,'-',xs,p(xs),'r-')\n",
    "#http://docs.scipy.org/doc/numpy/reference/generated/numpy.polyfit.html\n",
    "plt.xlabel('time (sec.)')\n",
    "plt.ylabel('heat flow (ncal/min.)')"
   ]
  },
  {
   "cell_type": "markdown",
   "metadata": {},
   "source": [
    "Plot the oscillatory component (by subtracting the polynomial fit):"
   ]
  },
  {
   "cell_type": "code",
   "execution_count": null,
   "metadata": {
    "collapsed": false
   },
   "outputs": [],
   "source": [
    "osc = s1 - p(xs)\n",
    "plt.plot(xs,osc)\n",
    "plt.xlabel('time (sec.)')\n",
    "plt.ylabel('normalized oscillatory component')"
   ]
  },
  {
   "cell_type": "markdown",
   "metadata": {},
   "source": [
    "Now we plot the power spectral density:"
   ]
  },
  {
   "cell_type": "code",
   "execution_count": null,
   "metadata": {
    "collapsed": false
   },
   "outputs": [],
   "source": [
    "#https://plot.ly/matplotlib/fft/\n",
    "Fs = 1\n",
    "n = len(osc) # length of the signal\n",
    "k = np.arange(n)\n",
    "T = n/Fs\n",
    "frq = k/float(T) # two sides frequency range\n",
    "frq = frq[range(n/2)] # one side frequency range\n",
    "Y = np.fft.fft(osc)/n # fft computing and normalization\n",
    "Y = Y[range(n/2)]\n",
    "plt.plot(1/frq,abs(Y),'r') # plotting the spectrum\n",
    "print 'dominant period is =' + str(1/frq[np.argmax(abs(Y))]) + 'sec'\n",
    "plt.xlabel('time (sec.)')\n",
    "plt.ylabel('power')"
   ]
  },
  {
   "cell_type": "code",
   "execution_count": null,
   "metadata": {
    "collapsed": false
   },
   "outputs": [],
   "source": [
    "np.shape([x.values , y.values])\n",
    "[x.values , y.values]"
   ]
  },
  {
   "cell_type": "code",
   "execution_count": null,
   "metadata": {
    "collapsed": false
   },
   "outputs": [],
   "source": [
    "df = pd.DataFrame.from_items([('time (sec.)', x.values[0:len(y.values)]), ('heat (ncal/min.)', y.values)])"
   ]
  },
  {
   "cell_type": "code",
   "execution_count": null,
   "metadata": {
    "collapsed": false
   },
   "outputs": [],
   "source": [
    "plt.plot(df['heat (ncal/min.)'])"
   ]
  },
  {
   "cell_type": "code",
   "execution_count": null,
   "metadata": {
    "collapsed": false
   },
   "outputs": [],
   "source": [
    "df.head()"
   ]
  },
  {
   "cell_type": "code",
   "execution_count": null,
   "metadata": {
    "collapsed": false
   },
   "outputs": [],
   "source": [
    "df.to_csv('zf_heat_JR.csv' , index = False)"
   ]
  },
  {
   "cell_type": "markdown",
   "metadata": {
    "collapsed": true
   },
   "source": [
    "- getting all datasets working;\n",
    "- deal w/ NAs in data\n",
    "\n"
   ]
  }
 ],
 "metadata": {
  "kernelspec": {
   "display_name": "Python 2",
   "language": "python",
   "name": "python2"
  },
  "language_info": {
   "codemirror_mode": {
    "name": "ipython",
    "version": 2
   },
   "file_extension": ".py",
   "mimetype": "text/x-python",
   "name": "python",
   "nbconvert_exporter": "python",
   "pygments_lexer": "ipython2",
   "version": "2.7.10"
  }
 },
 "nbformat": 4,
 "nbformat_minor": 0
}
